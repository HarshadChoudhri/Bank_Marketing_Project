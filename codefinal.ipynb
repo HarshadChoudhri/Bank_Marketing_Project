{
 "cells": [
  {
   "cell_type": "markdown",
   "metadata": {
    "collapsed": true
   },
   "source": [
    "import numpy as np\n",
    "import pandas as pd\n",
    "import seaborn as sns\n",
    "from matplotlib import style\n",
    "import os\n",
    "pd.options.mode.chained_assignment = None\n",
    "import matplotlib.pyplot as plt\n",
    "\n"
   ]
  },
  {
   "cell_type": "markdown",
   "metadata": {
    "collapsed": true
   },
   "source": [
    "import pandas as pd\n",
    "import matplotlib.pyplot as plt\n",
    "import seaborn as sns\n",
    "import numpy as np"
   ]
  },
  {
   "cell_type": "markdown",
   "metadata": {},
   "source": [
    "print (Bankdata.head())"
   ]
  },
  {
   "cell_type": "markdown",
   "metadata": {
    "collapsed": true,
    "scrolled": true
   },
   "source": [
    "term_deposits = Bankdata.copy()\n"
   ]
  },
  {
   "cell_type": "markdown",
   "metadata": {
    "scrolled": true
   },
   "source": [
    "Bankdata.dtypes"
   ]
  },
  {
   "cell_type": "markdown",
   "metadata": {
    "scrolled": true
   },
   "source": [
    "Bankdata.isnull()\n",
    "Bankdata.isnull().any()"
   ]
  },
  {
   "cell_type": "markdown",
   "metadata": {
    "scrolled": true
   },
   "source": [
    "# Let's see how the numeric data is distributed.\n",
    "import matplotlib.pyplot as plt\n",
    "\n",
    "Bankdata.hist(bins=10, figsize=(14,10), color='#E14906')\n",
    "plt.show()"
   ]
  },
  {
   "cell_type": "markdown",
   "metadata": {
    "collapsed": true
   },
   "source": [
    "# Convert the columns that contain a Yes or No. (Binary Columns)\n",
    "def convert_to_int(Bankdata, new_column, target_column):\n",
    "    Bankdata[new_column] = Bankdata[target_column].apply(lambda x: 0 if x == 'no' else 1)\n",
    "    return Bankdata[new_column].value_counts()"
   ]
  },
  {
   "cell_type": "markdown",
   "metadata": {},
   "source": [
    "convert_to_int(Bankdata, \"y_int\", \"y\") #Create a y int\n",
    "convert_to_int(Bankdata, \"housing_int\", \"housing\") # Create housingint column\n",
    "convert_to_int(Bankdata, \"loan_int\", \"loan\") #Create a loan_int column\n",
    "convert_to_int(Bankdata, \"default_int\", \"default\") #Create a default_int column"
   ]
  },
  {
   "cell_type": "markdown",
   "metadata": {
    "collapsed": true
   },
   "source": [
    "# Drop the non-binary columns and leave the same column in the form of integers 0 = No and 1 = Yes\n",
    "Bankdata.drop(['housing', 'loan', 'default','y'], axis=1, inplace=True)"
   ]
  },
  {
   "cell_type": "markdown",
   "metadata": {
    "collapsed": true
   },
   "source": [
    "Bankdata.rename(columns={'y_int':'term_deposit'}, inplace=True)"
   ]
  },
  {
   "cell_type": "markdown",
   "metadata": {
    "scrolled": true
   },
   "source": [
    "\n",
    "print(Bankdata.head())"
   ]
  },
  {
   "cell_type": "markdown",
   "metadata": {
    "collapsed": true
   },
   "source": [
    "dep = Bankdata['term_deposit']\n",
    "Bankdata.drop(labels=['term_deposit'], axis=1,inplace = True)\n",
    "Bankdata.insert(0, 'term_deposit', dep)"
   ]
  },
  {
   "cell_type": "markdown",
   "metadata": {
    "scrolled": true
   },
   "source": [
    "# Convert duration to minutes of conversation.\n",
    "decimal_points = 2\n",
    "Bankdata['duration'] = Bankdata['duration'] / 60\n",
    "Bankdata['duration'] = Bankdata['duration'].apply(lambda x: round(x, decimal_points))\n",
    "Bankdata.head()"
   ]
  },
  {
   "cell_type": "markdown",
   "metadata": {
    "collapsed": true
   },
   "source": [
    "Bankdata = pd.get_dummies(Bankdata, columns=['job'])\n"
   ]
  },
  {
   "cell_type": "markdown",
   "metadata": {
    "scrolled": true
   },
   "source": [
    "Bankdata.head()"
   ]
  },
  {
   "cell_type": "markdown",
   "metadata": {},
   "source": [
    "Bankdata.info()"
   ]
  },
  {
   "cell_type": "markdown",
   "metadata": {},
   "source": [
    "Bankdata = pd.get_dummies(Bankdata, columns=['education'])\n",
    "Bankdata.head()"
   ]
  },
  {
   "cell_type": "markdown",
   "metadata": {
    "scrolled": false
   },
   "source": [
    "Bankdata = pd.get_dummies(Bankdata, columns=['marital','contact','poutcome','month','day_of_week'])\n",
    "Bankdata.head()"
   ]
  },
  {
   "cell_type": "markdown",
   "metadata": {},
   "source": [
    "Bankdata.head()"
   ]
  },
  {
   "cell_type": "markdown",
   "metadata": {
    "collapsed": true
   },
   "source": [
    "from sklearn.model_selection import train_test_split\n"
   ]
  },
  {
   "cell_type": "markdown",
   "metadata": {
    "collapsed": true,
    "scrolled": true
   },
   "source": [
    "#Xs = onpData.drop(onpData.columns[-1], axis = 1)\n",
    "Xs = Bankdata.drop('term_deposit', axis = 1)"
   ]
  },
  {
   "cell_type": "markdown",
   "metadata": {},
   "source": [
    "#y = onpData.drop(onpData.columns[:-1], axis = 1)\n",
    "y = Bankdata['term_deposit']\n",
    "y.head()"
   ]
  },
  {
   "cell_type": "markdown",
   "metadata": {},
   "source": [
    "Xs.head()"
   ]
  },
  {
   "cell_type": "markdown",
   "metadata": {
    "scrolled": false
   },
   "source": [
    "xTrain, xVald, yTrain, yVald = train_test_split(Xs, y, train_size=0.60, random_state = 2)"
   ]
  },
  {
   "cell_type": "markdown",
   "metadata": {
    "collapsed": true
   },
   "source": [
    "#standardize the input variables between 0 and 1\n",
    "from sklearn.preprocessing import MinMaxScaler"
   ]
  },
  {
   "cell_type": "markdown",
   "metadata": {
    "collapsed": true
   },
   "source": [
    "scaler = MinMaxScaler()"
   ]
  },
  {
   "cell_type": "markdown",
   "metadata": {
    "scrolled": true
   },
   "source": [
    "scaler.fit(xTrain)"
   ]
  },
  {
   "cell_type": "markdown",
   "metadata": {
    "collapsed": true
   },
   "source": [
    "xTrain = scaler.transform(xTrain)\n",
    "xVald = scaler.transform(xVald)"
   ]
  },
  {
   "cell_type": "markdown",
   "metadata": {
    "collapsed": true
   },
   "source": [
    "#K-NearestNeighbors\n",
    "from sklearn.neighbors import KNeighborsClassifier"
   ]
  },
  {
   "cell_type": "markdown",
   "metadata": {},
   "source": [
    "knn = KNeighborsClassifier(n_neighbors=1)\n",
    "knn.fit(xTrain, yTrain)"
   ]
  },
  {
   "cell_type": "markdown",
   "metadata": {
    "collapsed": true
   },
   "source": [
    "from sklearn.metrics import accuracy_score"
   ]
  },
  {
   "cell_type": "markdown",
   "metadata": {},
   "source": [
    "knn = KNeighborsClassifier(n_neighbors=2)\n",
    "knn.fit(xTrain, yTrain)\n",
    "print (accuracy_score(yTrain, knn.predict(xTrain)))\n",
    "print (accuracy_score(yVald, knn.predict(xVald)))"
   ]
  },
  {
   "cell_type": "markdown",
   "metadata": {},
   "source": [
    "knn = KNeighborsClassifier(n_neighbors=3)\n",
    "knn.fit(xTrain, yTrain)\n",
    "print (accuracy_score(yTrain, knn.predict(xTrain)))\n",
    "print (accuracy_score(yVald, knn.predict(xVald)))"
   ]
  },
  {
   "cell_type": "markdown",
   "metadata": {},
   "source": [
    "knn = KNeighborsClassifier(n_neighbors=4)\n",
    "knn.fit(xTrain, yTrain)\n",
    "print (accuracy_score(yTrain, knn.predict(xTrain)))\n",
    "print (accuracy_score(yVald, knn.predict(xVald)))"
   ]
  },
  {
   "cell_type": "markdown",
   "metadata": {},
   "source": [
    "n_range = np.arange(1, 21)\n",
    "n_range"
   ]
  },
  {
   "cell_type": "markdown",
   "metadata": {},
   "source": [
    "n_score = pd.DataFrame(columns=['NumNeig', 'TrainScore', 'ValdScore'])\n",
    "n_score"
   ]
  },
  {
   "cell_type": "markdown",
   "metadata": {
    "collapsed": true
   },
   "source": [
    "for i in n_range:\n",
    "    knn = KNeighborsClassifier(n_neighbors=i)\n",
    "    knn.fit(xTrain, yTrain)\n",
    "    accTrain = accuracy_score(yTrain, knn.predict(xTrain))\n",
    "    accVald = accuracy_score(yVald, knn.predict(xVald))\n",
    "    n_score = n_score.append({'NumNeig': i, 'TrainScore':accTrain, 'ValdScore':accVald}, ignore_index=True)\n",
    "\n",
    "n_score.head()"
   ]
  },
  {
   "cell_type": "markdown",
   "metadata": {
    "collapsed": true
   },
   "source": [
    "bestValdScore = n_score['ValdScore'].max()\n",
    "bestValdScore"
   ]
  },
  {
   "cell_type": "markdown",
   "metadata": {
    "collapsed": true
   },
   "source": [
    "plt.figure(figsize=(12,8))\n",
    "plt.plot(n_score['NumNeig'], n_score['TrainScore'], label = 'Training')\n",
    "plt.plot(n_score['NumNeig'], n_score['ValdScore'], label = 'Validation', c='red')\n",
    "plt.axhline(bestValdScore, c='black', linestyle = ':')\n",
    "plt.title('Accuracy Score for Training and Validation Dataset')\n",
    "plt.ylabel('Accuracy')\n",
    "plt.xlabel('Number of Neighbors Used')\n",
    "plt.legend()\n",
    "plt.show()"
   ]
  },
  {
   "cell_type": "markdown",
   "metadata": {
    "collapsed": true
   },
   "source": [
    "##Classification Tree\n",
    "from sklearn.tree import DecisionTreeClassifier"
   ]
  },
  {
   "cell_type": "markdown",
   "metadata": {
    "collapsed": true
   },
   "source": [
    "decTree = DecisionTreeClassifier(max_leaf_nodes=19)"
   ]
  },
  {
   "cell_type": "markdown",
   "metadata": {},
   "source": [
    "decTree.fit(xTrain, yTrain)"
   ]
  },
  {
   "cell_type": "markdown",
   "metadata": {
    "collapsed": true
   },
   "source": [
    "import graphviz\n",
    "from sklearn import tree"
   ]
  },
  {
   "cell_type": "markdown",
   "metadata": {
    "scrolled": true
   },
   "source": [
    "dot_data = tree.export_graphviz(decTree, out_file=None)\n",
    "graph = graphviz.Source(dot_data)\n",
    "graph"
   ]
  },
  {
   "cell_type": "markdown",
   "metadata": {
    "collapsed": true
   },
   "source": [
    "from sklearn.metrics import accuracy_score"
   ]
  },
  {
   "cell_type": "markdown",
   "metadata": {},
   "source": [
    "accuracy_score(yVald, decTree.predict(xVald))"
   ]
  },
  {
   "cell_type": "markdown",
   "metadata": {},
   "source": [
    "leaf_range=np.arange(2,40)\n",
    "leaf_range"
   ]
  },
  {
   "cell_type": "markdown",
   "metadata": {},
   "source": [
    "leaf_score = pd.DataFrame(columns=['NofLeaves', 'TrainScore', 'ValidationScore'])\n",
    "leaf_score"
   ]
  },
  {
   "cell_type": "markdown",
   "metadata": {},
   "source": [
    "for i in leaf_range:\n",
    "    decTree= DecisionTreeClassifier(max_leaf_nodes=i)\n",
    "    decTree.fit(xTrain, yTrain)\n",
    "    accTrain = accuracy_score(yTrain, decTree.predict(xTrain))\n",
    "    accVald= accuracy_score(yVald, decTree.predict(xVald))\n",
    "    leaf_score = leaf_score.append({'NofLeaves': i, 'TrainScore': accTrain, 'ValidationScore':accVald}, ignore_index=True)\n",
    "\n",
    "leaf_score.head()"
   ]
  },
  {
   "cell_type": "markdown",
   "metadata": {},
   "source": [
    "leaf_score"
   ]
  },
  {
   "cell_type": "markdown",
   "metadata": {
    "collapsed": true
   },
   "source": [
    "bestValdScore = leaf_score['ValidationScore'].max()"
   ]
  },
  {
   "cell_type": "markdown",
   "metadata": {},
   "source": [
    "plt.figure(figsize=(12,8))\n",
    "plt.plot(leaf_score['NofLeaves'], leaf_score['TrainScore'], label='Trainning')\n",
    "plt.plot(leaf_score['NofLeaves'], leaf_score['ValidationScore'], label='Validation', color='red')\n",
    "plt.title('Accuracy Score for Training and Validation Dataset')\n",
    "plt.ylabel('Accuracy')\n",
    "plt.xlabel('Number of leaf Used')\n",
    "plt.axhline(bestValdScore, color = 'black', linestyle=':')\n",
    "plt.legend()\n",
    "plt.show()"
   ]
  },
  {
   "cell_type": "heading",
   "metadata": {
    "collapsed": true
   },
   "level": 1,
   "source": [
    "##Neural Networks\n",
    "from sklearn.metrics import accuracy_score"
   ]
  },
  {
   "cell_type": "markdown",
   "metadata": {
    "collapsed": true
   },
   "source": [
    "from sklearn.neural_network import MLPClassifier"
   ]
  },
  {
   "cell_type": "markdown",
   "metadata": {
    "collapsed": true
   },
   "source": [
    "nn = MLPClassifier(hidden_layer_sizes=(50,50,50,), activation='relu', max_iter=200, solver='lbfgs')"
   ]
  },
  {
   "cell_type": "markdown",
   "metadata": {},
   "source": [
    "nn.fit(xTrain, yTrain)"
   ]
  },
  {
   "cell_type": "markdown",
   "metadata": {
    "scrolled": true
   },
   "source": [
    "print(accuracy_score (yVald, nn.predict(xVald)))\n",
    "print(accuracy_score (yTrain, nn.predict(xTrain)))\n",
    "nn.score(xTrain, yTrain)"
   ]
  },
  {
   "cell_type": "markdown",
   "metadata": {},
   "source": [
    "nn.predict(xTrain).sum()"
   ]
  },
  {
   "cell_type": "markdown",
   "metadata": {},
   "source": [
    "print(Bankdata['month'].value_counts())\n",
    "cross_month = pd.crosstab(Bankdata['month'], Bankdata['term_deposit']).apply(lambda x: x/x.sum() * 100)\n",
    "cross_month"
   ]
  },
  {
   "cell_type": "markdown",
   "metadata": {
    "collapsed": true
   },
   "source": [
    "# Let's create a date column that will be interesting.\n",
    "# We will assume the year is 2017\n",
    "Bankdata['year'] = 2017\n",
    "lst = [Bankdata]\n",
    "\n",
    "# Create a column with the numeric values of the months.\n",
    "for column in lst:\n",
    "    column.loc[column[\"month\"] == \"jan\", \"month_int\"] = 1\n",
    "    column.loc[column[\"month\"] == \"feb\", \"month_int\"] = 2\n",
    "    column.loc[column[\"month\"] == \"mar\", \"month_int\"] = 3\n",
    "    column.loc[column[\"month\"] == \"apr\", \"month_int\"] = 4\n",
    "    column.loc[column[\"month\"] == \"may\", \"month_int\"] = 5\n",
    "    column.loc[column[\"month\"] == \"jun\", \"month_int\"] = 6\n",
    "    column.loc[column[\"month\"] == \"jul\", \"month_int\"] = 7\n",
    "    column.loc[column[\"month\"] == \"aug\", \"month_int\"] = 8\n",
    "    column.loc[column[\"month\"] == \"sep\", \"month_int\"] = 9\n",
    "    column.loc[column[\"month\"] == \"oct\", \"month_int\"] = 10\n",
    "    column.loc[column[\"month\"] == \"nov\", \"month_int\"] = 11\n",
    "    column.loc[column[\"month\"] == \"dec\", \"month_int\"] = 12\n",
    "\n",
    "# Change datatype from int32 to int64\n",
    "Bankdata[\"month_int\"] = Bankdata[\"month_int\"].astype(np.int64)"
   ]
  },
  {
   "cell_type": "markdown",
   "metadata": {},
   "source": [
    "f,ax=plt.subplots(1,2,figsize=(18,8))\n",
    "colors=[\"#F08090\", \"#00FA9A\"]\n",
    "labels = 'Refused T.D', 'Accepted a T.D'\n",
    "Bankdata['term_deposit'].value_counts().plot.pie(explode=[0,0.1],autopct='%1.1f%%',ax=ax[0],shadow=True, colors=colors, labels=labels,fontsize=14)\n",
    "ax[0].set_title('Term Deposits', fontsize=20)\n",
    "sns.countplot('term_deposit',data=Bankdata,ax=ax[1], palette=colors)\n",
    "ax[1].set_title('Term Deposits', fontsize=20)\n",
    "ax[1].set_xticklabels(['T.D Refused', 'T.D Accepted'], fontsize=14)\n",
    "plt.show()"
   ]
  },
  {
   "cell_type": "markdown",
   "metadata": {},
   "source": [
    "fig = plt.figure(figsize=(10,4),)\n",
    "ax=sns.kdeplot(Bankdata.loc[(Bankdata['term_deposit'] == 0),'month_int'] , color='#F08080',shade=True,label='Refused T.D')\n",
    "ax=sns.kdeplot(Bankdata.loc[(Bankdata['term_deposit'] == 1),'month_int'] , color='#00FA9A',shade=True, label='Accepted T.D')\n",
    "ax.set(xlabel='Months', ylabel='Frequency')\n",
    "plt.title('Term Deposits by Month')"
   ]
  },
  {
   "cell_type": "markdown",
   "metadata": {
    "scrolled": false
   },
   "source": [
    "# Create the Season column.\n",
    "Bankdata['season'] = np.nan\n",
    "lst=[Bankdata]\n",
    "# The conditions for determining each of the seasons.\n",
    "for column in lst:\n",
    "    column.loc[(column[\"month_int\"] >= 3) & (column[\"month_int\"] <= 5), 'season'] = 'spring'\n",
    "    column.loc[(column[\"month_int\"] >= 6) & (column[\"month_int\"] <= 8), 'season'] = 'summer'\n",
    "    column.loc[(column[\"month_int\"] >= 9) & (column[\"month_int\"] <= 11), 'season'] = 'fall'\n",
    "    column.loc[column[\"month_int\"] <= 2, 'season'] = 'winter'\n",
    "    column.loc[column[\"month_int\"] == 12, 'season'] = 'winter'\n",
    "    \n",
    "Bankdata['season'].value_counts()"
   ]
  },
  {
   "cell_type": "markdown",
   "metadata": {
    "scrolled": true
   },
   "source": [
    "fig = plt.figure(figsize=(15,4),)\n",
    "\n",
    "colors = ['#F08080', '#00FA9A']\n",
    "\n",
    "ax = sns.countplot(y='season', data=Bankdata,\n",
    "           hue='term_deposit',\n",
    "           palette = colors\n",
    "          ) \n",
    "\n",
    "plt.title(\"Season-Wise Term Deposits\", fontsize=16)\n",
    "plt.ylabel(\"Seasons\", fontsize=12)\n",
    "plt.xlabel(\"Market Activity\", fontsize=12)\n",
    "legend_name = plt.legend()\n",
    "legend_name.get_texts()[0].set_text('T.D. Refused')\n",
    "legend_name.get_texts()[1].set_text('T.D. Accepted')\n",
    "\n",
    "plt.show()"
   ]
  },
  {
   "cell_type": "markdown",
   "metadata": {
    "scrolled": true
   },
   "source": [
    "##Analysis of Term Deposit based on Age \n",
    "fig = plt.figure(figsize=(10,4),)\n",
    "ax=sns.kdeplot(Bankdata.loc[(Bankdata['term_deposit'] == 0),'age'] , color='#bf40bf',shade=True,label='T.D. Refused')\n",
    "ax=sns.kdeplot(Bankdata.loc[(Bankdata['term_deposit'] == 1),'age'] , color='#00FA9A',shade=True, label='T.D. Accepted')\n",
    "ax.set(xlabel='Age of Individuals', ylabel='Frequency')\n",
    "plt.title('Term Subscriptions by Age')"
   ]
  },
  {
   "cell_type": "markdown",
   "metadata": {},
   "source": [
    "corr = Bankdata.corr()\n",
    "\n",
    "sns.heatmap(corr,annot=True,cmap='RdYlGn',linewidths=0.2,annot_kws={'size':9})\n",
    "fig=plt.gcf()\n",
    "fig.set_size_inches(14,12)\n",
    "plt.xticks(fontsize=10)\n",
    "plt.yticks(fontsize=10)\n",
    "plt.show()\n"
   ]
  },
  {
   "cell_type": "markdown",
   "metadata": {
    "collapsed": true
   },
   "source": [
    "knn_output= knn.predict(xTrain)"
   ]
  },
  {
   "cell_type": "markdown",
   "metadata": {
    "collapsed": true
   },
   "source": [
    "decTree_output=decTree.predict(xTrain)"
   ]
  },
  {
   "cell_type": "markdown",
   "metadata": {
    "collapsed": true
   },
   "source": [
    "# Creating dataframe for NN, KNN, and DecTree\n",
    "nn_output=pd.DataFrame(nn.predict(xTrain))"
   ]
  },
  {
   "cell_type": "markdown",
   "metadata": {
    "collapsed": true
   },
   "source": [
    "knn_output=pd.DataFrame(knn_output)\n"
   ]
  },
  {
   "cell_type": "markdown",
   "metadata": {
    "collapsed": true
   },
   "source": [
    "decTree_output=pd.DataFrame(decTree_output)\n"
   ]
  },
  {
   "cell_type": "markdown",
   "metadata": {
    "collapsed": true
   },
   "source": [
    "ensemble_Train=pd.concat([nn_output,decTree_output,knn_output],axis=1)"
   ]
  },
  {
   "cell_type": "markdown",
   "metadata": {},
   "source": [
    "col1=(['nn_output','decTree_output','knn_output'])\n",
    "ensemble_Train.columns=col1\n",
    "ensemble_Train.head()"
   ]
  },
  {
   "cell_type": "markdown",
   "metadata": {},
   "source": [
    "nn_ensemble= MLPClassifier(hidden_layer_sizes=(50,50,50,), activation='relu', max_iter=200, solver='lbfgs')\n",
    "nn_ensemble.fit(ensemble_Train, yTrain)\n",
    "print(\"Accuracy Score: \",accuracy_score(yTrain,nn_ensemble.predict(ensemble_Train)))"
   ]
  }
 ],
 "metadata": {
  "kernelspec": {
   "display_name": "Python 3",
   "language": "python",
   "name": "python3"
  },
  "language_info": {
   "codemirror_mode": {
    "name": "ipython",
    "version": 3
   },
   "file_extension": ".py",
   "mimetype": "text/x-python",
   "name": "python",
   "nbconvert_exporter": "python",
   "pygments_lexer": "ipython3",
   "version": "3.6.3"
  }
 },
 "nbformat": 4,
 "nbformat_minor": 2
}
